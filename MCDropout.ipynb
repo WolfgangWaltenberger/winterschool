{
  "nbformat": 4,
  "nbformat_minor": 0,
  "metadata": {
    "colab": {
      "name": "example.ipynb",
      "provenance": [],
      "collapsed_sections": [],
      "include_colab_link": true
    },
    "jupytext": {
      "cell_metadata_filter": "-all",
      "executable": "/usr/bin/env python3",
      "main_language": "python",
      "notebook_metadata_filter": "-all"
    },
    "kernelspec": {
      "display_name": "Python 3",
      "language": "python",
      "name": "python3"
    },
    "language_info": {
      "codemirror_mode": {
        "name": "ipython",
        "version": 3
      },
      "file_extension": ".py",
      "mimetype": "text/x-python",
      "name": "python",
      "nbconvert_exporter": "python",
      "pygments_lexer": "ipython3",
      "version": "3.7.5"
    }
  },
  "cells": [
    {
      "cell_type": "markdown",
      "metadata": {
        "id": "view-in-github",
        "colab_type": "text"
      },
      "source": [
        "<a href=\"https://colab.research.google.com/github/WolfgangWaltenberger/winterschool/blob/master/MCDropout.ipynb\" target=\"_parent\"><img src=\"https://colab.research.google.com/assets/colab-badge.svg\" alt=\"Open In Colab\"/></a>"
      ]
    },
    {
      "cell_type": "markdown",
      "metadata": {
        "id": "T9PAhenc0BvG",
        "colab_type": "text"
      },
      "source": [
        "Simple example for Monte-Carlo dropout, with ideas borrowed from\n",
        "https://xuwd11.github.io/Dropout_Tutorial_in_PyTorch/"
      ]
    },
    {
      "cell_type": "code",
      "metadata": {
        "id": "xPCj9IEbgceN",
        "colab_type": "code",
        "colab": {}
      },
      "source": [
        "## import all important libraries\n",
        "import warnings\n",
        "warnings.filterwarnings(\"ignore\")\n",
        "\n",
        "import numpy as np\n",
        "import pandas as pd\n",
        "import time\n",
        "import h5py\n",
        "from scipy.ndimage.interpolation import rotate\n",
        "\n",
        "import matplotlib\n",
        "import matplotlib.pyplot as plt\n",
        "import matplotlib.image as mpimg\n",
        "import matplotlib.gridspec as gridspec\n",
        "\n",
        "import seaborn as sns\n",
        "%matplotlib inline\n",
        "\n",
        "import torch\n",
        "import torchvision\n",
        "from torchvision import datasets\n",
        "from torchvision import transforms\n",
        "from torch.autograd import Variable\n",
        "import torch.nn as nn\n",
        "import torch.nn.functional as F\n",
        "import torch.optim as optim\n",
        "from torch.utils.data.sampler import SubsetRandomSampler\n",
        "\n",
        "import pymc3 as pm"
      ],
      "execution_count": 0,
      "outputs": []
    },
    {
      "cell_type": "code",
      "metadata": {
        "id": "E9nrzUUtjdsS",
        "colab_type": "code",
        "colab": {
          "base_uri": "https://localhost:8080/",
          "height": 93
        },
        "outputId": "8e2f4b99-30cc-4f45-afbc-57adb5741793"
      },
      "source": [
        "## load MNIST training and test data\n",
        "transform = transforms.Compose([transforms.ToTensor()])\n",
        "\n",
        "trainset = datasets.MNIST(root='data/', train=True, download=True, transform=transform)\n",
        "testset = datasets.MNIST(root='data/', train=False, transform=transform)\n",
        "\n",
        "# Visualize 10 image samples in MNIST dataset\n",
        "trainloader = torch.utils.data.DataLoader(trainset, batch_size=64, shuffle=True, num_workers=2)\n",
        "dataiter = iter(trainloader)\n",
        "images, labels = dataiter.next()\n",
        "# plot 10 sample images\n",
        "_,ax = plt.subplots(1,10)\n",
        "ax = ax.flatten()\n",
        "iml = images[0].numpy().shape[1]\n",
        "[ax[i].imshow(np.transpose(images[i].numpy(),(1,2,0)).reshape(iml,-1),cmap='Greys') for i in range(10)]\n",
        "[ax[i].set_axis_off() for i in range(10)]\n",
        "plt.show()\n",
        "print('label:',labels[:10].numpy())\n",
        "print('image data shape:',images[0].numpy().shape)"
      ],
      "execution_count": 10,
      "outputs": [
        {
          "output_type": "display_data",
          "data": {
            "image/png": "[encoded data removed]",
            "text/plain": [
              "<Figure size 432x288 with 10 Axes>"
            ]
          },
          "metadata": {
            "tags": []
          }
        },
        {
          "output_type": "stream",
          "text": [
            "label: [3 7 0 4 8 7 6 0 7 0]\n",
            "image data shape: (1, 28, 28)\n"
          ],
          "name": "stdout"
        }
      ]
    },
    {
      "cell_type": "code",
      "metadata": {
        "id": "DvJZYokcj4Np",
        "colab_type": "code",
        "colab": {}
      },
      "source": [
        "## this is a simple convolutional network, with conv layers,\n",
        "## batch normalization, etc etc\n",
        "class ConvNet(nn.Module):                                                             \n",
        "    def __init__(self, num_classes=10,droprate=.2):                                               \n",
        "        super(ConvNet, self).__init__()                                               \n",
        "        self.layer1 = nn.Sequential(                                                  \n",
        "            nn.Conv2d(1, 16, kernel_size=5, stride=1, padding=2), \n",
        "            nn.Dropout(droprate),                    \n",
        "            nn.BatchNorm2d(16),                                                       \n",
        "            nn.ReLU(),                                                                \n",
        "            nn.MaxPool2d(kernel_size=2, stride=2))                                    \n",
        "        self.layer2 = nn.Sequential(                                                  \n",
        "            nn.Conv2d(16, 32, kernel_size=5, stride=1, padding=2),  \n",
        "            nn.Dropout(droprate),                  \n",
        "            nn.BatchNorm2d(32),                                                       \n",
        "            nn.ReLU(),                                                                \n",
        "            nn.MaxPool2d(kernel_size=2, stride=2))                                    \n",
        "        self.fc = nn.Linear(7*7*32, num_classes)                                      \n",
        "                                                                                      \n",
        "    def forward(self, x):                                                             \n",
        "        out = self.layer1(x)                                                          \n",
        "        out = self.layer2(out)                                                        \n",
        "        out = out.reshape(out.size(0), -1)                                            \n",
        "        out = self.fc(out)                                                            \n",
        "        return out           "
      ],
      "execution_count": 0,
      "outputs": []
    },
    {
      "cell_type": "code",
      "metadata": {
        "id": "oAmSE-VWz9tl",
        "colab_type": "code",
        "colab": {}
      },
      "source": [
        "model = ConvNet(10)\n",
        "criterion = nn.CrossEntropyLoss()\n",
        "optimizer = torch.optim.Adam(model.parameters() )"
      ],
      "execution_count": 0,
      "outputs": []
    },
    {
      "cell_type": "code",
      "metadata": {
        "id": "QqJ0LIqR1mQJ",
        "colab_type": "code",
        "colab": {
          "base_uri": "https://localhost:8080/",
          "height": 170
        },
        "outputId": "ac9f8b9c-1c6f-4704-9deb-c2f406e16754"
      },
      "source": [
        "# Train the model\n",
        "num_epochs = 3    \n",
        "device = \"cpu\"                                                            \n",
        "total_step = len(trainloader)                                                        \n",
        "for epoch in range(num_epochs):                                                       \n",
        "    for i, (images, labels) in enumerate(trainloader):                               \n",
        "        images = images.to(device)                                                    \n",
        "        labels = labels.to(device)                                                    \n",
        "                                                                                      \n",
        "        # Forward pass                                                                \n",
        "        outputs = model(images)                                                       \n",
        "        loss = criterion(outputs, labels)                                             \n",
        "                                                                                      \n",
        "        # Backward and optimize                                                       \n",
        "        optimizer.zero_grad()                                                         \n",
        "        loss.backward()                                                               \n",
        "        optimizer.step()                                                              \n",
        "                                                                                      \n",
        "        if (i+1) % 100 == 0:                                                          \n",
        "            print ('Epoch [{}/{}], Step [{}/{}], Loss: {:.4f}'                        \n",
        "                   .format(epoch+1, num_epochs, i+1, total_step, loss.item()))"
      ],
      "execution_count": 0,
      "outputs": [
        {
          "output_type": "stream",
          "text": [
            "Epoch [1/3], Step [100/938], Loss: 0.0245\n",
            "Epoch [1/3], Step [200/938], Loss: 0.0021\n",
            "Epoch [1/3], Step [300/938], Loss: 0.0238\n",
            "Epoch [1/3], Step [400/938], Loss: 0.1069\n",
            "Epoch [1/3], Step [500/938], Loss: 0.0503\n",
            "Epoch [1/3], Step [600/938], Loss: 0.0039\n",
            "Epoch [1/3], Step [700/938], Loss: 0.0072\n",
            "Epoch [1/3], Step [800/938], Loss: 0.0037\n",
            "Epoch [1/3], Step [900/938], Loss: 0.0043\n"
          ],
          "name": "stdout"
        }
      ]
    },
    {
      "cell_type": "code",
      "metadata": {
        "id": "1NW8t05L3-BD",
        "colab_type": "code",
        "colab": {
          "base_uri": "https://localhost:8080/",
          "height": 34
        },
        "outputId": "587c32f6-75dc-43a9-fc5d-3a737b08fd3c"
      },
      "source": [
        "torch.cuda.is_available()"
      ],
      "execution_count": 26,
      "outputs": [
        {
          "output_type": "execute_result",
          "data": {
            "text/plain": [
              "False"
            ]
          },
          "metadata": {
            "tags": []
          },
          "execution_count": 26
        }
      ]
    },
    {
      "cell_type": "code",
      "metadata": {
        "id": "b2okKrz947Ei",
        "colab_type": "code",
        "colab": {}
      },
      "source": [
        ""
      ],
      "execution_count": 0,
      "outputs": []
    }
  ]
}