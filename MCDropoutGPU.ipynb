{
  "nbformat": 4,
  "nbformat_minor": 0,
  "metadata": {
    "colab": {
      "name": "Copy of example.ipynb",
      "provenance": [],
      "collapsed_sections": []
    },
    "jupytext": {
      "cell_metadata_filter": "-all",
      "executable": "/usr/bin/env python3",
      "main_language": "python",
      "notebook_metadata_filter": "-all"
    },
    "kernelspec": {
      "name": "python3",
      "display_name": "Python 3"
    },
    "language_info": {
      "codemirror_mode": {
        "name": "ipython",
        "version": 3
      },
      "file_extension": ".py",
      "mimetype": "text/x-python",
      "name": "python",
      "nbconvert_exporter": "python",
      "pygments_lexer": "ipython3",
      "version": "3.7.5"
    },
    "accelerator": "GPU"
  },
  "cells": [
    {
      "cell_type": "markdown",
      "metadata": {
        "id": "T9PAhenc0BvG",
        "colab_type": "text"
      },
      "source": [
        "Simple example for dropout as regularization, then Monte-Carlo dropout, with most of the code stolen from\n",
        "https://xuwd11.github.io/Dropout_Tutorial_in_PyTorch/"
      ]
    },
    {
      "cell_type": "markdown",
      "metadata": {
        "id": "gn7Iv7ppyztw",
        "colab_type": "text"
      },
      "source": [
        "# **Convolutional neural network, dropout as regularization**"
      ]
    },
    {
      "cell_type": "code",
      "metadata": {
        "id": "xPCj9IEbgceN",
        "colab_type": "code",
        "colab": {}
      },
      "source": [
        "## import all important libraries\n",
        "import warnings\n",
        "warnings.filterwarnings(\"ignore\")\n",
        "\n",
        "import numpy as np\n",
        "import pandas as pd\n",
        "import time\n",
        "import h5py\n",
        "import os\n",
        "import subprocess\n",
        "from scipy.ndimage.interpolation import rotate\n",
        "\n",
        "import matplotlib\n",
        "import matplotlib.pyplot as plt\n",
        "import matplotlib.image as mpimg\n",
        "import matplotlib.gridspec as gridspec\n",
        "\n",
        "import seaborn as sns\n",
        "%matplotlib inline\n",
        "\n",
        "import torch\n",
        "import torchvision\n",
        "from torchvision import datasets\n",
        "from torchvision import transforms\n",
        "from torch.autograd import Variable\n",
        "import torch.nn as nn\n",
        "import torch.nn.functional as F\n",
        "import torch.optim as optim\n",
        "from torch.utils.data.sampler import SubsetRandomSampler\n",
        "\n",
        "import pymc3 as pm"
      ],
      "execution_count": 0,
      "outputs": []
    },
    {
      "cell_type": "code",
      "metadata": {
        "id": "E9nrzUUtjdsS",
        "colab_type": "code",
        "outputId": "8b7a897d-add0-4b86-d0bd-bc8394022842",
        "colab": {
          "base_uri": "https://localhost:8080/",
          "height": 93
        }
      },
      "source": [
        "## load MNIST training and test data\n",
        "transform = transforms.Compose([transforms.ToTensor()])\n",
        "\n",
        "trainset = datasets.MNIST(root='data/', train=True, download=True, transform=transform)\n",
        "testset = datasets.MNIST(root='data/', train=False, transform=transform)\n",
        "\n",
        "# Visualize 10 image samples in MNIST dataset\n",
        "trainloader = torch.utils.data.DataLoader(trainset, batch_size=64, shuffle=True, num_workers=2)\n",
        "dataiter = iter(trainloader)\n",
        "images, labels = dataiter.next()\n",
        "# plot 10 sample images\n",
        "_,ax = plt.subplots(1,10)\n",
        "ax = ax.flatten()\n",
        "iml = images[0].numpy().shape[1]\n",
        "[ax[i].imshow(np.transpose(images[i].numpy(),(1,2,0)).reshape(iml,-1),cmap='Greys') for i in range(10)]\n",
        "[ax[i].set_axis_off() for i in range(10)]\n",
        "plt.show()\n",
        "print('label:',labels[:10].numpy())\n",
        "print('image data shape:',images[0].numpy().shape)"
      ],
      "execution_count": 0,
      "outputs": [
        {
          "output_type": "display_data",
          "data": {
            "image/png": "[encoded data removed]",
            "text/plain": [
              "<Figure size 432x288 with 10 Axes>"
            ]
          },
          "metadata": {
            "tags": []
          }
        },
        {
          "output_type": "stream",
          "text": [
            "label: [7 0 1 3 9 0 8 0 8 4]\n",
            "image data shape: (1, 28, 28)\n"
          ],
          "name": "stdout"
        }
      ]
    },
    {
      "cell_type": "code",
      "metadata": {
        "id": "-NCjDJOO_g7F",
        "colab_type": "code",
        "colab": {}
      },
      "source": [
        "## a helper class to flatten tensors\n",
        "class Flatten(nn.Module):\n",
        "    def __init__(self):\n",
        "        super(Flatten, self).__init__()\n",
        "\n",
        "    def forward(self, x):\n",
        "        x = x.view(x.size(0), -1)\n",
        "        return x\n",
        "\n",
        "## a ConvNet, with  2 convolutional layers, one dense layer, dropout rate configurable\n",
        "class LeNet(nn.Module):\n",
        "    def __init__(self, droprate=0.5):\n",
        "        super(LeNet, self).__init__()\n",
        "        self.model = nn.Sequential()\n",
        "        self.model.add_module('conv1', nn.Conv2d(1, 20, kernel_size=5, padding=2))\n",
        "        self.model.add_module('dropout1', nn.Dropout2d(p=droprate))\n",
        "        self.model.add_module('maxpool1', nn.MaxPool2d(2, stride=2))\n",
        "        self.model.add_module('conv2', nn.Conv2d(20, 50, kernel_size=5, padding=2))\n",
        "        self.model.add_module('dropout2', nn.Dropout2d(p=droprate))\n",
        "        self.model.add_module('maxpool2', nn.MaxPool2d(2, stride=2))\n",
        "        self.model.add_module('flatten', Flatten())\n",
        "        self.model.add_module('dense3', nn.Linear(50*7*7, 500))\n",
        "        self.model.add_module('relu3', nn.ReLU())\n",
        "        self.model.add_module('dropout3', nn.Dropout(p=droprate))\n",
        "        self.model.add_module('final', nn.Linear(500, 10))\n",
        "        \n",
        "    def forward(self, x):\n",
        "        return self.model(x)"
      ],
      "execution_count": 0,
      "outputs": []
    },
    {
      "cell_type": "code",
      "metadata": {
        "id": "VPw6Ca5F_yM9",
        "colab_type": "code",
        "colab": {}
      },
      "source": [
        "## sklearn-like interface, make sure we keep track of all the test results\n",
        "class LeNetClassifier:\n",
        "    def __init__(self, droprate=0.5, batch_size=128, max_epoch=300, lr=0.01):\n",
        "        self.batch_size = batch_size\n",
        "        self.max_epoch = max_epoch\n",
        "        self.lr = lr\n",
        "        self.model = LeNet(droprate)\n",
        "        self.model.cuda()\n",
        "        self.criterion = nn.CrossEntropyLoss().cuda()\n",
        "        self.optimizer = optim.SGD(self.model.parameters(), lr=lr)\n",
        "        self.loss_ = []\n",
        "        self.test_error = []\n",
        "        self.test_accuracy = []\n",
        "        \n",
        "    def fit(self, trainset, testset, verbose=True):\n",
        "        trainloader = torch.utils.data.DataLoader(trainset, batch_size=self.batch_size, shuffle=True)\n",
        "        testloader = torch.utils.data.DataLoader(testset, batch_size=len(testset), shuffle=False)\n",
        "        X_test, y_test = iter(testloader).next()\n",
        "        X_test = X_test.cuda()\n",
        "        print(self.model)\n",
        "        for epoch in range(self.max_epoch):\n",
        "            running_loss = 0\n",
        "            for i, data in enumerate(trainloader, 0):\n",
        "                inputs, labels = data\n",
        "                # inputs, labels = Variable(inputs), Variable(labels)\n",
        "                inputs, labels = Variable(inputs).cuda(), Variable(labels).cuda()\n",
        "                self.optimizer.zero_grad()\n",
        "                outputs = self.model(inputs)\n",
        "                loss = self.criterion(outputs, labels)\n",
        "                loss.backward()\n",
        "                self.optimizer.step()\n",
        "                # print(loss.data)\n",
        "                running_loss += loss.data.item()\n",
        "            self.loss_.append(running_loss / len(trainloader))\n",
        "            if verbose:\n",
        "                print('Epoch {} loss: {}'.format(epoch+1, self.loss_[-1]))\n",
        "            y_test_pred = self.predict(X_test).cpu()\n",
        "            self.test_accuracy.append(np.mean(y_test.numpy() == y_test_pred.numpy())) \n",
        "            self.test_error.append(int(len(testset)*(1-self.test_accuracy[-1])))\n",
        "            if verbose:\n",
        "                print('Test error: {}; test accuracy: {}'.format(self.test_error[-1], self.test_accuracy[-1]))\n",
        "        return self\n",
        "    \n",
        "    def predict(self, x):\n",
        "        model = self.model.eval()\n",
        "        outputs = model(Variable(x))\n",
        "        _, pred = torch.max(outputs.data, 1)\n",
        "        model = self.model.train()\n",
        "        return pred"
      ],
      "execution_count": 0,
      "outputs": []
    },
    {
      "cell_type": "code",
      "metadata": {
        "id": "oiZusIMY_6fH",
        "colab_type": "code",
        "outputId": "e35e241b-c07c-4f55-94cf-28efe8291e41",
        "colab": {
          "base_uri": "https://localhost:8080/",
          "height": 732
        }
      },
      "source": [
        "## now train! Dont train per default (takes too long)\n",
        "do_train = True\n",
        "if do_train:\n",
        "  # Define networks\n",
        "  lenet1 = [LeNetClassifier(droprate=0, max_epoch=1500),\n",
        "            LeNetClassifier(droprate=0.5, max_epoch=1500)]\n",
        "        \n",
        "  # Training, set verbose=True to see loss after each epoch.\n",
        "  [lenet.fit(trainset, testset,verbose=True) for lenet in lenet1]\n",
        "\n",
        "  # Save torch models\n",
        "  for ind, lenet in enumerate(lenet1):\n",
        "    torch.save(lenet.model, 'mnist_lenet1_'+str(ind)+'.pth')\n",
        "    # Prepare to save errors\n",
        "    lenet.test_error = list(map(str, lenet.test_error))\n",
        "\n",
        "  # Save test errors to plot figures\n",
        "  open(\"lenet1_test_errors.txt\",\"w\").write('\\n'.join([','.join(lenet.test_error) for lenet in lenet1]))"
      ],
      "execution_count": 0,
      "outputs": [
        {
          "output_type": "stream",
          "text": [
            "LeNet(\n",
            "  (model): Sequential(\n",
            "    (conv1): Conv2d(1, 20, kernel_size=(5, 5), stride=(1, 1), padding=(2, 2))\n",
            "    (dropout1): Dropout2d(p=0, inplace=False)\n",
            "    (maxpool1): MaxPool2d(kernel_size=2, stride=2, padding=0, dilation=1, ceil_mode=False)\n",
            "    (conv2): Conv2d(20, 50, kernel_size=(5, 5), stride=(1, 1), padding=(2, 2))\n",
            "    (dropout2): Dropout2d(p=0, inplace=False)\n",
            "    (maxpool2): MaxPool2d(kernel_size=2, stride=2, padding=0, dilation=1, ceil_mode=False)\n",
            "    (flatten): Flatten()\n",
            "    (dense3): Linear(in_features=2450, out_features=500, bias=True)\n",
            "    (relu3): ReLU()\n",
            "    (dropout3): Dropout(p=0, inplace=False)\n",
            "    (final): Linear(in_features=500, out_features=10, bias=True)\n",
            "  )\n",
            ")\n",
            "Epoch 1 loss: 1.337701271020019\n",
            "Test error: 1136; test accuracy: 0.8864\n",
            "Epoch 2 loss: 0.33601345522190207\n",
            "Test error: 752; test accuracy: 0.9248\n",
            "Epoch 3 loss: 0.24899357867075692\n",
            "Test error: 658; test accuracy: 0.9341\n"
          ],
          "name": "stdout"
        },
        {
          "output_type": "error",
          "ename": "KeyboardInterrupt",
          "evalue": "ignored",
          "traceback": [
            "\u001b[0;31m---------------------------------------------------------------------------\u001b[0m",
            "\u001b[0;31mKeyboardInterrupt\u001b[0m                         Traceback (most recent call last)",
            "\u001b[0;32m<ipython-input-65-93679e9358ec>\u001b[0m in \u001b[0;36m<module>\u001b[0;34m()\u001b[0m\n\u001b[1;32m      6\u001b[0m \u001b[0;34m\u001b[0m\u001b[0m\n\u001b[1;32m      7\u001b[0m   \u001b[0;31m# Training, set verbose=True to see loss after each epoch.\u001b[0m\u001b[0;34m\u001b[0m\u001b[0;34m\u001b[0m\u001b[0;34m\u001b[0m\u001b[0m\n\u001b[0;32m----> 8\u001b[0;31m   \u001b[0;34m[\u001b[0m\u001b[0mlenet\u001b[0m\u001b[0;34m.\u001b[0m\u001b[0mfit\u001b[0m\u001b[0;34m(\u001b[0m\u001b[0mtrainset\u001b[0m\u001b[0;34m,\u001b[0m \u001b[0mtestset\u001b[0m\u001b[0;34m,\u001b[0m\u001b[0mverbose\u001b[0m\u001b[0;34m=\u001b[0m\u001b[0;32mTrue\u001b[0m\u001b[0;34m)\u001b[0m \u001b[0;32mfor\u001b[0m \u001b[0mlenet\u001b[0m \u001b[0;32min\u001b[0m \u001b[0mlenet1\u001b[0m\u001b[0;34m]\u001b[0m\u001b[0;34m\u001b[0m\u001b[0;34m\u001b[0m\u001b[0m\n\u001b[0m\u001b[1;32m      9\u001b[0m \u001b[0;34m\u001b[0m\u001b[0m\n\u001b[1;32m     10\u001b[0m   \u001b[0;31m# Save torch models\u001b[0m\u001b[0;34m\u001b[0m\u001b[0;34m\u001b[0m\u001b[0;34m\u001b[0m\u001b[0m\n",
            "\u001b[0;32m<ipython-input-65-93679e9358ec>\u001b[0m in \u001b[0;36m<listcomp>\u001b[0;34m(.0)\u001b[0m\n\u001b[1;32m      6\u001b[0m \u001b[0;34m\u001b[0m\u001b[0m\n\u001b[1;32m      7\u001b[0m   \u001b[0;31m# Training, set verbose=True to see loss after each epoch.\u001b[0m\u001b[0;34m\u001b[0m\u001b[0;34m\u001b[0m\u001b[0;34m\u001b[0m\u001b[0m\n\u001b[0;32m----> 8\u001b[0;31m   \u001b[0;34m[\u001b[0m\u001b[0mlenet\u001b[0m\u001b[0;34m.\u001b[0m\u001b[0mfit\u001b[0m\u001b[0;34m(\u001b[0m\u001b[0mtrainset\u001b[0m\u001b[0;34m,\u001b[0m \u001b[0mtestset\u001b[0m\u001b[0;34m,\u001b[0m\u001b[0mverbose\u001b[0m\u001b[0;34m=\u001b[0m\u001b[0;32mTrue\u001b[0m\u001b[0;34m)\u001b[0m \u001b[0;32mfor\u001b[0m \u001b[0mlenet\u001b[0m \u001b[0;32min\u001b[0m \u001b[0mlenet1\u001b[0m\u001b[0;34m]\u001b[0m\u001b[0;34m\u001b[0m\u001b[0;34m\u001b[0m\u001b[0m\n\u001b[0m\u001b[1;32m      9\u001b[0m \u001b[0;34m\u001b[0m\u001b[0m\n\u001b[1;32m     10\u001b[0m   \u001b[0;31m# Save torch models\u001b[0m\u001b[0;34m\u001b[0m\u001b[0;34m\u001b[0m\u001b[0;34m\u001b[0m\u001b[0m\n",
            "\u001b[0;32m<ipython-input-64-c9a985daad47>\u001b[0m in \u001b[0;36mfit\u001b[0;34m(self, trainset, testset, verbose)\u001b[0m\n\u001b[1;32m     20\u001b[0m         \u001b[0;32mfor\u001b[0m \u001b[0mepoch\u001b[0m \u001b[0;32min\u001b[0m \u001b[0mrange\u001b[0m\u001b[0;34m(\u001b[0m\u001b[0mself\u001b[0m\u001b[0;34m.\u001b[0m\u001b[0mmax_epoch\u001b[0m\u001b[0;34m)\u001b[0m\u001b[0;34m:\u001b[0m\u001b[0;34m\u001b[0m\u001b[0;34m\u001b[0m\u001b[0m\n\u001b[1;32m     21\u001b[0m             \u001b[0mrunning_loss\u001b[0m \u001b[0;34m=\u001b[0m \u001b[0;36m0\u001b[0m\u001b[0;34m\u001b[0m\u001b[0;34m\u001b[0m\u001b[0m\n\u001b[0;32m---> 22\u001b[0;31m             \u001b[0;32mfor\u001b[0m \u001b[0mi\u001b[0m\u001b[0;34m,\u001b[0m \u001b[0mdata\u001b[0m \u001b[0;32min\u001b[0m \u001b[0menumerate\u001b[0m\u001b[0;34m(\u001b[0m\u001b[0mtrainloader\u001b[0m\u001b[0;34m,\u001b[0m \u001b[0;36m0\u001b[0m\u001b[0;34m)\u001b[0m\u001b[0;34m:\u001b[0m\u001b[0;34m\u001b[0m\u001b[0;34m\u001b[0m\u001b[0m\n\u001b[0m\u001b[1;32m     23\u001b[0m                 \u001b[0minputs\u001b[0m\u001b[0;34m,\u001b[0m \u001b[0mlabels\u001b[0m \u001b[0;34m=\u001b[0m \u001b[0mdata\u001b[0m\u001b[0;34m\u001b[0m\u001b[0;34m\u001b[0m\u001b[0m\n\u001b[1;32m     24\u001b[0m                 \u001b[0;31m# inputs, labels = Variable(inputs), Variable(labels)\u001b[0m\u001b[0;34m\u001b[0m\u001b[0;34m\u001b[0m\u001b[0;34m\u001b[0m\u001b[0m\n",
            "\u001b[0;32m/usr/local/lib/python3.6/dist-packages/torch/utils/data/dataloader.py\u001b[0m in \u001b[0;36m__next__\u001b[0;34m(self)\u001b[0m\n\u001b[1;32m    343\u001b[0m \u001b[0;34m\u001b[0m\u001b[0m\n\u001b[1;32m    344\u001b[0m     \u001b[0;32mdef\u001b[0m \u001b[0m__next__\u001b[0m\u001b[0;34m(\u001b[0m\u001b[0mself\u001b[0m\u001b[0;34m)\u001b[0m\u001b[0;34m:\u001b[0m\u001b[0;34m\u001b[0m\u001b[0;34m\u001b[0m\u001b[0m\n\u001b[0;32m--> 345\u001b[0;31m         \u001b[0mdata\u001b[0m \u001b[0;34m=\u001b[0m \u001b[0mself\u001b[0m\u001b[0;34m.\u001b[0m\u001b[0m_next_data\u001b[0m\u001b[0;34m(\u001b[0m\u001b[0;34m)\u001b[0m\u001b[0;34m\u001b[0m\u001b[0;34m\u001b[0m\u001b[0m\n\u001b[0m\u001b[1;32m    346\u001b[0m         \u001b[0mself\u001b[0m\u001b[0;34m.\u001b[0m\u001b[0m_num_yielded\u001b[0m \u001b[0;34m+=\u001b[0m \u001b[0;36m1\u001b[0m\u001b[0;34m\u001b[0m\u001b[0;34m\u001b[0m\u001b[0m\n\u001b[1;32m    347\u001b[0m         \u001b[0;32mif\u001b[0m \u001b[0mself\u001b[0m\u001b[0;34m.\u001b[0m\u001b[0m_dataset_kind\u001b[0m \u001b[0;34m==\u001b[0m \u001b[0m_DatasetKind\u001b[0m\u001b[0;34m.\u001b[0m\u001b[0mIterable\u001b[0m \u001b[0;32mand\u001b[0m\u001b[0;31m \u001b[0m\u001b[0;31m\\\u001b[0m\u001b[0;34m\u001b[0m\u001b[0;34m\u001b[0m\u001b[0m\n",
            "\u001b[0;32m/usr/local/lib/python3.6/dist-packages/torch/utils/data/dataloader.py\u001b[0m in \u001b[0;36m_next_data\u001b[0;34m(self)\u001b[0m\n\u001b[1;32m    383\u001b[0m     \u001b[0;32mdef\u001b[0m \u001b[0m_next_data\u001b[0m\u001b[0;34m(\u001b[0m\u001b[0mself\u001b[0m\u001b[0;34m)\u001b[0m\u001b[0;34m:\u001b[0m\u001b[0;34m\u001b[0m\u001b[0;34m\u001b[0m\u001b[0m\n\u001b[1;32m    384\u001b[0m         \u001b[0mindex\u001b[0m \u001b[0;34m=\u001b[0m \u001b[0mself\u001b[0m\u001b[0;34m.\u001b[0m\u001b[0m_next_index\u001b[0m\u001b[0;34m(\u001b[0m\u001b[0;34m)\u001b[0m  \u001b[0;31m# may raise StopIteration\u001b[0m\u001b[0;34m\u001b[0m\u001b[0;34m\u001b[0m\u001b[0m\n\u001b[0;32m--> 385\u001b[0;31m         \u001b[0mdata\u001b[0m \u001b[0;34m=\u001b[0m \u001b[0mself\u001b[0m\u001b[0;34m.\u001b[0m\u001b[0m_dataset_fetcher\u001b[0m\u001b[0;34m.\u001b[0m\u001b[0mfetch\u001b[0m\u001b[0;34m(\u001b[0m\u001b[0mindex\u001b[0m\u001b[0;34m)\u001b[0m  \u001b[0;31m# may raise StopIteration\u001b[0m\u001b[0;34m\u001b[0m\u001b[0;34m\u001b[0m\u001b[0m\n\u001b[0m\u001b[1;32m    386\u001b[0m         \u001b[0;32mif\u001b[0m \u001b[0mself\u001b[0m\u001b[0;34m.\u001b[0m\u001b[0m_pin_memory\u001b[0m\u001b[0;34m:\u001b[0m\u001b[0;34m\u001b[0m\u001b[0;34m\u001b[0m\u001b[0m\n\u001b[1;32m    387\u001b[0m             \u001b[0mdata\u001b[0m \u001b[0;34m=\u001b[0m \u001b[0m_utils\u001b[0m\u001b[0;34m.\u001b[0m\u001b[0mpin_memory\u001b[0m\u001b[0;34m.\u001b[0m\u001b[0mpin_memory\u001b[0m\u001b[0;34m(\u001b[0m\u001b[0mdata\u001b[0m\u001b[0;34m)\u001b[0m\u001b[0;34m\u001b[0m\u001b[0;34m\u001b[0m\u001b[0m\n",
            "\u001b[0;32m/usr/local/lib/python3.6/dist-packages/torch/utils/data/_utils/fetch.py\u001b[0m in \u001b[0;36mfetch\u001b[0;34m(self, possibly_batched_index)\u001b[0m\n\u001b[1;32m     42\u001b[0m     \u001b[0;32mdef\u001b[0m \u001b[0mfetch\u001b[0m\u001b[0;34m(\u001b[0m\u001b[0mself\u001b[0m\u001b[0;34m,\u001b[0m \u001b[0mpossibly_batched_index\u001b[0m\u001b[0;34m)\u001b[0m\u001b[0;34m:\u001b[0m\u001b[0;34m\u001b[0m\u001b[0;34m\u001b[0m\u001b[0m\n\u001b[1;32m     43\u001b[0m         \u001b[0;32mif\u001b[0m \u001b[0mself\u001b[0m\u001b[0;34m.\u001b[0m\u001b[0mauto_collation\u001b[0m\u001b[0;34m:\u001b[0m\u001b[0;34m\u001b[0m\u001b[0;34m\u001b[0m\u001b[0m\n\u001b[0;32m---> 44\u001b[0;31m             \u001b[0mdata\u001b[0m \u001b[0;34m=\u001b[0m \u001b[0;34m[\u001b[0m\u001b[0mself\u001b[0m\u001b[0;34m.\u001b[0m\u001b[0mdataset\u001b[0m\u001b[0;34m[\u001b[0m\u001b[0midx\u001b[0m\u001b[0;34m]\u001b[0m \u001b[0;32mfor\u001b[0m \u001b[0midx\u001b[0m \u001b[0;32min\u001b[0m \u001b[0mpossibly_batched_index\u001b[0m\u001b[0;34m]\u001b[0m\u001b[0;34m\u001b[0m\u001b[0;34m\u001b[0m\u001b[0m\n\u001b[0m\u001b[1;32m     45\u001b[0m         \u001b[0;32melse\u001b[0m\u001b[0;34m:\u001b[0m\u001b[0;34m\u001b[0m\u001b[0;34m\u001b[0m\u001b[0m\n\u001b[1;32m     46\u001b[0m             \u001b[0mdata\u001b[0m \u001b[0;34m=\u001b[0m \u001b[0mself\u001b[0m\u001b[0;34m.\u001b[0m\u001b[0mdataset\u001b[0m\u001b[0;34m[\u001b[0m\u001b[0mpossibly_batched_index\u001b[0m\u001b[0;34m]\u001b[0m\u001b[0;34m\u001b[0m\u001b[0;34m\u001b[0m\u001b[0m\n",
            "\u001b[0;32m/usr/local/lib/python3.6/dist-packages/torch/utils/data/_utils/fetch.py\u001b[0m in \u001b[0;36m<listcomp>\u001b[0;34m(.0)\u001b[0m\n\u001b[1;32m     42\u001b[0m     \u001b[0;32mdef\u001b[0m \u001b[0mfetch\u001b[0m\u001b[0;34m(\u001b[0m\u001b[0mself\u001b[0m\u001b[0;34m,\u001b[0m \u001b[0mpossibly_batched_index\u001b[0m\u001b[0;34m)\u001b[0m\u001b[0;34m:\u001b[0m\u001b[0;34m\u001b[0m\u001b[0;34m\u001b[0m\u001b[0m\n\u001b[1;32m     43\u001b[0m         \u001b[0;32mif\u001b[0m \u001b[0mself\u001b[0m\u001b[0;34m.\u001b[0m\u001b[0mauto_collation\u001b[0m\u001b[0;34m:\u001b[0m\u001b[0;34m\u001b[0m\u001b[0;34m\u001b[0m\u001b[0m\n\u001b[0;32m---> 44\u001b[0;31m             \u001b[0mdata\u001b[0m \u001b[0;34m=\u001b[0m \u001b[0;34m[\u001b[0m\u001b[0mself\u001b[0m\u001b[0;34m.\u001b[0m\u001b[0mdataset\u001b[0m\u001b[0;34m[\u001b[0m\u001b[0midx\u001b[0m\u001b[0;34m]\u001b[0m \u001b[0;32mfor\u001b[0m \u001b[0midx\u001b[0m \u001b[0;32min\u001b[0m \u001b[0mpossibly_batched_index\u001b[0m\u001b[0;34m]\u001b[0m\u001b[0;34m\u001b[0m\u001b[0;34m\u001b[0m\u001b[0m\n\u001b[0m\u001b[1;32m     45\u001b[0m         \u001b[0;32melse\u001b[0m\u001b[0;34m:\u001b[0m\u001b[0;34m\u001b[0m\u001b[0;34m\u001b[0m\u001b[0m\n\u001b[1;32m     46\u001b[0m             \u001b[0mdata\u001b[0m \u001b[0;34m=\u001b[0m \u001b[0mself\u001b[0m\u001b[0;34m.\u001b[0m\u001b[0mdataset\u001b[0m\u001b[0;34m[\u001b[0m\u001b[0mpossibly_batched_index\u001b[0m\u001b[0;34m]\u001b[0m\u001b[0;34m\u001b[0m\u001b[0;34m\u001b[0m\u001b[0m\n",
            "\u001b[0;32m/usr/local/lib/python3.6/dist-packages/torchvision/datasets/mnist.py\u001b[0m in \u001b[0;36m__getitem__\u001b[0;34m(self, index)\u001b[0m\n\u001b[1;32m     95\u001b[0m \u001b[0;34m\u001b[0m\u001b[0m\n\u001b[1;32m     96\u001b[0m         \u001b[0;32mif\u001b[0m \u001b[0mself\u001b[0m\u001b[0;34m.\u001b[0m\u001b[0mtransform\u001b[0m \u001b[0;32mis\u001b[0m \u001b[0;32mnot\u001b[0m \u001b[0;32mNone\u001b[0m\u001b[0;34m:\u001b[0m\u001b[0;34m\u001b[0m\u001b[0;34m\u001b[0m\u001b[0m\n\u001b[0;32m---> 97\u001b[0;31m             \u001b[0mimg\u001b[0m \u001b[0;34m=\u001b[0m \u001b[0mself\u001b[0m\u001b[0;34m.\u001b[0m\u001b[0mtransform\u001b[0m\u001b[0;34m(\u001b[0m\u001b[0mimg\u001b[0m\u001b[0;34m)\u001b[0m\u001b[0;34m\u001b[0m\u001b[0;34m\u001b[0m\u001b[0m\n\u001b[0m\u001b[1;32m     98\u001b[0m \u001b[0;34m\u001b[0m\u001b[0m\n\u001b[1;32m     99\u001b[0m         \u001b[0;32mif\u001b[0m \u001b[0mself\u001b[0m\u001b[0;34m.\u001b[0m\u001b[0mtarget_transform\u001b[0m \u001b[0;32mis\u001b[0m \u001b[0;32mnot\u001b[0m \u001b[0;32mNone\u001b[0m\u001b[0;34m:\u001b[0m\u001b[0;34m\u001b[0m\u001b[0;34m\u001b[0m\u001b[0m\n",
            "\u001b[0;32m/usr/local/lib/python3.6/dist-packages/torchvision/transforms/transforms.py\u001b[0m in \u001b[0;36m__call__\u001b[0;34m(self, img)\u001b[0m\n\u001b[1;32m     68\u001b[0m     \u001b[0;32mdef\u001b[0m \u001b[0m__call__\u001b[0m\u001b[0;34m(\u001b[0m\u001b[0mself\u001b[0m\u001b[0;34m,\u001b[0m \u001b[0mimg\u001b[0m\u001b[0;34m)\u001b[0m\u001b[0;34m:\u001b[0m\u001b[0;34m\u001b[0m\u001b[0;34m\u001b[0m\u001b[0m\n\u001b[1;32m     69\u001b[0m         \u001b[0;32mfor\u001b[0m \u001b[0mt\u001b[0m \u001b[0;32min\u001b[0m \u001b[0mself\u001b[0m\u001b[0;34m.\u001b[0m\u001b[0mtransforms\u001b[0m\u001b[0;34m:\u001b[0m\u001b[0;34m\u001b[0m\u001b[0;34m\u001b[0m\u001b[0m\n\u001b[0;32m---> 70\u001b[0;31m             \u001b[0mimg\u001b[0m \u001b[0;34m=\u001b[0m \u001b[0mt\u001b[0m\u001b[0;34m(\u001b[0m\u001b[0mimg\u001b[0m\u001b[0;34m)\u001b[0m\u001b[0;34m\u001b[0m\u001b[0;34m\u001b[0m\u001b[0m\n\u001b[0m\u001b[1;32m     71\u001b[0m         \u001b[0;32mreturn\u001b[0m \u001b[0mimg\u001b[0m\u001b[0;34m\u001b[0m\u001b[0;34m\u001b[0m\u001b[0m\n\u001b[1;32m     72\u001b[0m \u001b[0;34m\u001b[0m\u001b[0m\n",
            "\u001b[0;32m/usr/local/lib/python3.6/dist-packages/torchvision/transforms/transforms.py\u001b[0m in \u001b[0;36m__call__\u001b[0;34m(self, pic)\u001b[0m\n\u001b[1;32m     99\u001b[0m             \u001b[0mTensor\u001b[0m\u001b[0;34m:\u001b[0m \u001b[0mConverted\u001b[0m \u001b[0mimage\u001b[0m\u001b[0;34m.\u001b[0m\u001b[0;34m\u001b[0m\u001b[0;34m\u001b[0m\u001b[0m\n\u001b[1;32m    100\u001b[0m         \"\"\"\n\u001b[0;32m--> 101\u001b[0;31m         \u001b[0;32mreturn\u001b[0m \u001b[0mF\u001b[0m\u001b[0;34m.\u001b[0m\u001b[0mto_tensor\u001b[0m\u001b[0;34m(\u001b[0m\u001b[0mpic\u001b[0m\u001b[0;34m)\u001b[0m\u001b[0;34m\u001b[0m\u001b[0;34m\u001b[0m\u001b[0m\n\u001b[0m\u001b[1;32m    102\u001b[0m \u001b[0;34m\u001b[0m\u001b[0m\n\u001b[1;32m    103\u001b[0m     \u001b[0;32mdef\u001b[0m \u001b[0m__repr__\u001b[0m\u001b[0;34m(\u001b[0m\u001b[0mself\u001b[0m\u001b[0;34m)\u001b[0m\u001b[0;34m:\u001b[0m\u001b[0;34m\u001b[0m\u001b[0;34m\u001b[0m\u001b[0m\n",
            "\u001b[0;32m/usr/local/lib/python3.6/dist-packages/torchvision/transforms/functional.py\u001b[0m in \u001b[0;36mto_tensor\u001b[0;34m(pic)\u001b[0m\n\u001b[1;32m     98\u001b[0m     \u001b[0mimg\u001b[0m \u001b[0;34m=\u001b[0m \u001b[0mimg\u001b[0m\u001b[0;34m.\u001b[0m\u001b[0mtranspose\u001b[0m\u001b[0;34m(\u001b[0m\u001b[0;36m0\u001b[0m\u001b[0;34m,\u001b[0m \u001b[0;36m1\u001b[0m\u001b[0;34m)\u001b[0m\u001b[0;34m.\u001b[0m\u001b[0mtranspose\u001b[0m\u001b[0;34m(\u001b[0m\u001b[0;36m0\u001b[0m\u001b[0;34m,\u001b[0m \u001b[0;36m2\u001b[0m\u001b[0;34m)\u001b[0m\u001b[0;34m.\u001b[0m\u001b[0mcontiguous\u001b[0m\u001b[0;34m(\u001b[0m\u001b[0;34m)\u001b[0m\u001b[0;34m\u001b[0m\u001b[0;34m\u001b[0m\u001b[0m\n\u001b[1;32m     99\u001b[0m     \u001b[0;32mif\u001b[0m \u001b[0misinstance\u001b[0m\u001b[0;34m(\u001b[0m\u001b[0mimg\u001b[0m\u001b[0;34m,\u001b[0m \u001b[0mtorch\u001b[0m\u001b[0;34m.\u001b[0m\u001b[0mByteTensor\u001b[0m\u001b[0;34m)\u001b[0m\u001b[0;34m:\u001b[0m\u001b[0;34m\u001b[0m\u001b[0;34m\u001b[0m\u001b[0m\n\u001b[0;32m--> 100\u001b[0;31m         \u001b[0;32mreturn\u001b[0m \u001b[0mimg\u001b[0m\u001b[0;34m.\u001b[0m\u001b[0mfloat\u001b[0m\u001b[0;34m(\u001b[0m\u001b[0;34m)\u001b[0m\u001b[0;34m.\u001b[0m\u001b[0mdiv\u001b[0m\u001b[0;34m(\u001b[0m\u001b[0;36m255\u001b[0m\u001b[0;34m)\u001b[0m\u001b[0;34m\u001b[0m\u001b[0;34m\u001b[0m\u001b[0m\n\u001b[0m\u001b[1;32m    101\u001b[0m     \u001b[0;32melse\u001b[0m\u001b[0;34m:\u001b[0m\u001b[0;34m\u001b[0m\u001b[0;34m\u001b[0m\u001b[0m\n\u001b[1;32m    102\u001b[0m         \u001b[0;32mreturn\u001b[0m \u001b[0mimg\u001b[0m\u001b[0;34m\u001b[0m\u001b[0;34m\u001b[0m\u001b[0m\n",
            "\u001b[0;31mKeyboardInterrupt\u001b[0m: "
          ]
        }
      ]
    },
    {
      "cell_type": "code",
      "metadata": {
        "id": "rV_fvYnTDEFE",
        "colab_type": "code",
        "colab": {}
      },
      "source": [
        "def downloadFiles():\n",
        "  for i in [ \"mnist_lenet1_0.pth\", \"mnist_lenet1_1.pth\", \"lenet1_test_errors.txt\" ]:\n",
        "    if not os.path.exists ( i ):\n",
        "      print ( \"downloading %s\" % i  )\n",
        "      out = subprocess.getoutput ( \"wget http://www.hephy.at/user/wwaltenberger/%s\" % i )\n",
        "      print ( out )\n",
        "    else:\n",
        "      print ( \"file %s exists already\" % i )"
      ],
      "execution_count": 0,
      "outputs": []
    },
    {
      "cell_type": "code",
      "metadata": {
        "id": "jZwQBLkuDenV",
        "colab_type": "code",
        "outputId": "695b3365-d75d-4ae6-c85b-0b1aef5c9700",
        "colab": {
          "base_uri": "https://localhost:8080/",
          "height": 1000
        }
      },
      "source": [
        "downloadFiles()"
      ],
      "execution_count": 0,
      "outputs": [
        {
          "output_type": "stream",
          "text": [
            "downloading mnist_lenet1_0.pth\n",
            "--2020-02-19 13:38:13--  http://www.hephy.at/user/wwaltenberger/mnist_lenet1_0.pth\n",
            "Resolving www.hephy.at (www.hephy.at)... 193.170.243.198\n",
            "Connecting to www.hephy.at (www.hephy.at)|193.170.243.198|:80... connected.\n",
            "HTTP request sent, awaiting response... 200 OK\n",
            "Length: 5045206 (4.8M)\n",
            "Saving to: ‘mnist_lenet1_0.pth’\n",
            "\n",
            "     0K .......... .......... .......... .......... ..........  1% 1.06M 5s\n",
            "    50K .......... .......... .......... .......... ..........  2% 2.15M 3s\n",
            "   100K .......... .......... .......... .......... ..........  3% 44.5M 2s\n",
            "   150K .......... .......... .......... .......... ..........  4% 62.0M 2s\n",
            "   200K .......... .......... .......... .......... ..........  5% 2.26M 2s\n",
            "   250K .......... .......... .......... .......... ..........  6% 89.6M 1s\n",
            "   300K .......... .......... .......... .......... ..........  7% 93.6M 1s\n",
            "   350K .......... .......... .......... .......... ..........  8%  130M 1s\n",
            "   400K .......... .......... .......... .......... ..........  9% 2.27M 1s\n",
            "   450K .......... .......... .......... .......... .......... 10%  122M 1s\n",
            "   500K .......... .......... .......... .......... .......... 11%  114M 1s\n",
            "   550K .......... .......... .......... .......... .......... 12% 99.7M 1s\n",
            "   600K .......... .......... .......... .......... .......... 13%  128M 1s\n",
            "   650K .......... .......... .......... .......... .......... 14%  106M 1s\n",
            "   700K .......... .......... .......... .......... .......... 15%  132M 1s\n",
            "   750K .......... .......... .......... .......... .......... 16%  114M 1s\n",
            "   800K .......... .......... .......... .......... .......... 17% 2.46M 1s\n",
            "   850K .......... .......... .......... .......... .......... 18%  152M 1s\n",
            "   900K .......... .......... .......... .......... .......... 19%  108M 1s\n",
            "   950K .......... .......... .......... .......... .......... 20% 94.7M 1s\n",
            "  1000K .......... .......... .......... .......... .......... 21%  167M 1s\n",
            "  1050K .......... .......... .......... .......... .......... 22%  107M 0s\n",
            "  1100K .......... .......... .......... .......... .......... 23%  121M 0s\n",
            "  1150K .......... .......... .......... .......... .......... 24%  117M 0s\n",
            "  1200K .......... .......... .......... .......... .......... 25%  105M 0s\n",
            "  1250K .......... .......... .......... .......... .......... 26%  116M 0s\n",
            "  1300K .......... .......... .......... .......... .......... 27%  122M 0s\n",
            "  1350K .......... .......... .......... .......... .......... 28%  101M 0s\n",
            "  1400K .......... .......... .......... .......... .......... 29%  103M 0s\n",
            "  1450K .......... .......... .......... .......... .......... 30%  125M 0s\n",
            "  1500K .......... .......... .......... .......... .......... 31%  112M 0s\n",
            "  1550K .......... .......... .......... .......... .......... 32%  117M 0s\n",
            "  1600K .......... .......... .......... .......... .......... 33% 84.5M 0s\n",
            "  1650K .......... .......... .......... .......... .......... 34% 3.03M 0s\n",
            "  1700K .......... .......... .......... .......... .......... 35%  130M 0s\n",
            "  1750K .......... .......... .......... .......... .......... 36%  110M 0s\n",
            "  1800K .......... .......... .......... .......... .......... 37%  123M 0s\n",
            "  1850K .......... .......... .......... .......... .......... 38%  126M 0s\n",
            "  1900K .......... .......... .......... .......... .......... 39% 92.5M 0s\n",
            "  1950K .......... .......... .......... .......... .......... 40%  135M 0s\n",
            "  2000K .......... .......... .......... .......... .......... 41%  104M 0s\n",
            "  2050K .......... .......... .......... .......... .......... 42%  120M 0s\n",
            "  2100K .......... .......... .......... .......... .......... 43%  123M 0s\n",
            "  2150K .......... .......... .......... .......... .......... 44%  109M 0s\n",
            "  2200K .......... .......... .......... .......... .......... 45% 88.4M 0s\n",
            "  2250K .......... .......... .......... .......... .......... 46%  118M 0s\n",
            "  2300K .......... .......... .......... .......... .......... 47%  109M 0s\n",
            "  2350K .......... .......... .......... .......... .......... 48%  108M 0s\n",
            "  2400K .......... .......... .......... .......... .......... 49%  124M 0s\n",
            "  2450K .......... .......... .......... .......... .......... 50%  106M 0s\n",
            "  2500K .......... .......... .......... .......... .......... 51%  126M 0s\n",
            "  2550K .......... .......... .......... .......... .......... 52%  102M 0s\n",
            "  2600K .......... .......... .......... .......... .......... 53%  138M 0s\n",
            "  2650K .......... .......... .......... .......... .......... 54% 90.7M 0s\n",
            "  2700K .......... .......... .......... .......... .......... 55%  132M 0s\n",
            "  2750K .......... .......... .......... .......... .......... 56%  133M 0s\n",
            "  2800K .......... .......... .......... .......... .......... 57% 95.9M 0s\n",
            "  2850K .......... .......... .......... .......... .......... 58%  113M 0s\n",
            "  2900K .......... .......... .......... .......... .......... 59%  106M 0s\n",
            "  2950K .......... .......... .......... .......... .......... 60%  138M 0s\n",
            "  3000K .......... .......... .......... .......... .......... 61% 95.6M 0s\n",
            "  3050K .......... .......... .......... .......... .......... 62%  114M 0s\n",
            "  3100K .......... .......... .......... .......... .......... 63%  122M 0s\n",
            "  3150K .......... .......... .......... .......... .......... 64%  111M 0s\n",
            "  3200K .......... .......... .......... .......... .......... 65%  124M 0s\n",
            "  3250K .......... .......... .......... .......... .......... 66%  113M 0s\n",
            "  3300K .......... .......... .......... .......... .......... 67% 5.50M 0s\n",
            "  3350K .......... .......... .......... .......... .......... 69% 96.5M 0s\n",
            "  3400K .......... .......... .......... .......... .......... 70%  153M 0s\n",
            "  3450K .......... .......... .......... .......... .......... 71% 99.5M 0s\n",
            "  3500K .......... .......... .......... .......... .......... 72% 96.9M 0s\n",
            "  3550K .......... .......... .......... .......... .......... 73%  141M 0s\n",
            "  3600K .......... .......... .......... .......... .......... 74%  119M 0s\n",
            "  3650K .......... .......... .......... .......... .......... 75% 99.1M 0s\n",
            "  3700K .......... .......... .......... .......... .......... 76%  117M 0s\n",
            "  3750K .......... .......... .......... .......... .......... 77%  102M 0s\n",
            "  3800K .......... .......... .......... .......... .......... 78%  137M 0s\n",
            "  3850K .......... .......... .......... .......... .......... 79%  103M 0s\n",
            "  3900K .......... .......... .......... .......... .......... 80%  122M 0s\n",
            "  3950K .......... .......... .......... .......... .......... 81%  117M 0s\n",
            "  4000K .......... .......... .......... .......... .......... 82% 99.0M 0s\n",
            "  4050K .......... .......... .......... .......... .......... 83%  115M 0s\n",
            "  4100K .......... .......... .......... .......... .......... 84%  106M 0s\n",
            "  4150K .......... .......... .......... .......... .......... 85% 87.9M 0s\n",
            "  4200K .......... .......... .......... .......... .......... 86%  138M 0s\n",
            "  4250K .......... .......... .......... .......... .......... 87%  132M 0s\n",
            "  4300K .......... .......... .......... .......... .......... 88% 89.9M 0s\n",
            "  4350K .......... .......... .......... .......... .......... 89%  128M 0s\n",
            "  4400K .......... .......... .......... .......... .......... 90%  115M 0s\n",
            "  4450K .......... .......... .......... .......... .......... 91%  127M 0s\n",
            "  4500K .......... .......... .......... .......... .......... 92%  116M 0s\n",
            "  4550K .......... .......... .......... .......... .......... 93%  105M 0s\n",
            "  4600K .......... .......... .......... .......... .......... 94% 99.6M 0s\n",
            "  4650K .......... .......... .......... .......... .......... 95%  113M 0s\n",
            "  4700K .......... .......... .......... .......... .......... 96%  138M 0s\n",
            "  4750K .......... .......... .......... .......... .......... 97% 86.5M 0s\n",
            "  4800K .......... .......... .......... .......... .......... 98%  113M 0s\n",
            "  4850K .......... .......... .......... .......... .......... 99%  130M 0s\n",
            "  4900K .......... .......... ......                          100%  102M=0.2s\n",
            "\n",
            "2020-02-19 13:38:14 (24.3 MB/s) - ‘mnist_lenet1_0.pth’ saved [5045206/5045206]\n",
            "\n",
            "downloading mnist_lenet1_1.pth\n",
            "--2020-02-19 13:38:14--  http://www.hephy.at/user/wwaltenberger/mnist_lenet1_1.pth\n",
            "Resolving www.hephy.at (www.hephy.at)... 193.170.243.198\n",
            "Connecting to www.hephy.at (www.hephy.at)|193.170.243.198|:80... connected.\n",
            "HTTP request sent, awaiting response... 200 OK\n",
            "Length: 5045227 (4.8M)\n",
            "Saving to: ‘mnist_lenet1_1.pth’\n",
            "\n",
            "     0K .......... .......... .......... .......... ..........  1% 1.05M 5s\n",
            "    50K .......... .......... .......... .......... ..........  2% 2.12M 3s\n",
            "   100K .......... .......... .......... .......... ..........  3% 44.8M 2s\n",
            "   150K .......... .......... .......... .......... ..........  4% 68.5M 2s\n",
            "   200K .......... .......... .......... .......... ..........  5% 2.24M 2s\n",
            "   250K .......... .......... .......... .......... ..........  6% 78.2M 1s\n",
            "   300K .......... .......... .......... .......... ..........  7%  104M 1s\n",
            "   350K .......... .......... .......... .......... ..........  8%  116M 1s\n",
            "   400K .......... .......... .......... .......... ..........  9% 2.26M 1s\n",
            "   450K .......... .......... .......... .......... .......... 10%  163M 1s\n",
            "   500K .......... .......... .......... .......... .......... 11%  123M 1s\n",
            "   550K .......... .......... .......... .......... .......... 12%  116M 1s\n",
            "   600K .......... .......... .......... .......... .......... 13% 97.9M 1s\n",
            "   650K .......... .......... .......... .......... .......... 14%  132M 1s\n",
            "   700K .......... .......... .......... .......... .......... 15%  101M 1s\n",
            "   750K .......... .......... .......... .......... .......... 16%  121M 1s\n",
            "   800K .......... .......... .......... .......... .......... 17% 2.23M 1s\n",
            "   850K .......... .......... .......... .......... .......... 18%  111M 1s\n",
            "   900K .......... .......... .......... .......... .......... 19%  105M 1s\n",
            "   950K .......... .......... .......... .......... .......... 20%  113M 1s\n",
            "  1000K .......... .......... .......... .......... .......... 21% 93.4M 1s\n",
            "  1050K .......... .......... .......... .......... .......... 22%  104M 0s\n",
            "  1100K .......... .......... .......... .......... .......... 23%  128M 0s\n",
            "  1150K .......... .......... .......... .......... .......... 24% 78.7M 0s\n",
            "  1200K .......... .......... .......... .......... .......... 25%  199M 0s\n",
            "  1250K .......... .......... .......... .......... .......... 26%  221M 0s\n",
            "  1300K .......... .......... .......... .......... .......... 27%  224M 0s\n",
            "  1350K .......... .......... .......... .......... .......... 28%  211M 0s\n",
            "  1400K .......... .......... .......... .......... .......... 29%  186M 0s\n",
            "  1450K .......... .......... .......... .......... .......... 30% 2.61M 0s\n",
            "  1500K .......... .......... .......... .......... .......... 31%  103M 0s\n",
            "  1550K .......... .......... .......... .......... .......... 32%  119M 0s\n",
            "  1600K .......... .......... .......... .......... .......... 33% 96.2M 0s\n",
            "  1650K .......... .......... .......... .......... .......... 34%  142M 0s\n",
            "  1700K .......... .......... .......... .......... .......... 35%  102M 0s\n",
            "  1750K .......... .......... .......... .......... .......... 36%  115M 0s\n",
            "  1800K .......... .......... .......... .......... .......... 37%  117M 0s\n",
            "  1850K .......... .......... .......... .......... .......... 38%  116M 0s\n",
            "  1900K .......... .......... .......... .......... .......... 39%  113M 0s\n",
            "  1950K .......... .......... .......... .......... .......... 40%  131M 0s\n",
            "  2000K .......... .......... .......... .......... .......... 41% 94.0M 0s\n",
            "  2050K .......... .......... .......... .......... .......... 42%  107M 0s\n",
            "  2100K .......... .......... .......... .......... .......... 43%  139M 0s\n",
            "  2150K .......... .......... .......... .......... .......... 44%  103M 0s\n",
            "  2200K .......... .......... .......... .......... .......... 45% 98.3M 0s\n",
            "  2250K .......... .......... .......... .......... .......... 46%  117M 0s\n",
            "  2300K .......... .......... .......... .......... .......... 47%  103M 0s\n",
            "  2350K .......... .......... .......... .......... .......... 48%  113M 0s\n",
            "  2400K .......... .......... .......... .......... .......... 49%  129M 0s\n",
            "  2450K .......... .......... .......... .......... .......... 50%  118M 0s\n",
            "  2500K .......... .......... .......... .......... .......... 51%  115M 0s\n",
            "  2550K .......... .......... .......... .......... .......... 52% 95.4M 0s\n",
            "  2600K .......... .......... .......... .......... .......... 53%  112M 0s\n",
            "  2650K .......... .......... .......... .......... .......... 54% 3.72M 0s\n",
            "  2700K .......... .......... .......... .......... .......... 55%  190M 0s\n",
            "  2750K .......... .......... .......... .......... .......... 56%  128M 0s\n",
            "  2800K .......... .......... .......... .......... .......... 57%  127M 0s\n",
            "  2850K .......... .......... .......... .......... .......... 58%  121M 0s\n",
            "  2900K .......... .......... .......... .......... .......... 59% 97.3M 0s\n",
            "  2950K .......... .......... .......... .......... .......... 60%  110M 0s\n",
            "  3000K .......... .......... .......... .......... .......... 61%  151M 0s\n",
            "  3050K .......... .......... .......... .......... .......... 62%  112M 0s\n",
            "  3100K .......... .......... .......... .......... .......... 63% 97.6M 0s\n",
            "  3150K .......... .......... .......... .......... .......... 64%  103M 0s\n",
            "  3200K .......... .......... .......... .......... .......... 65%  132M 0s\n",
            "  3250K .......... .......... .......... .......... .......... 66%  118M 0s\n",
            "  3300K .......... .......... .......... .......... .......... 67% 95.0M 0s\n",
            "  3350K .......... .......... .......... .......... .......... 69% 94.3M 0s\n",
            "  3400K .......... .......... .......... .......... .......... 70%  145M 0s\n",
            "  3450K .......... .......... .......... .......... .......... 71% 84.5M 0s\n",
            "  3500K .......... .......... .......... .......... .......... 72%  148M 0s\n",
            "  3550K .......... .......... .......... .......... .......... 73%  132M 0s\n",
            "  3600K .......... .......... .......... .......... .......... 74% 96.1M 0s\n",
            "  3650K .......... .......... .......... .......... .......... 75%  155M 0s\n",
            "  3700K .......... .......... .......... .......... .......... 76% 90.8M 0s\n",
            "  3750K .......... .......... .......... .......... .......... 77%  121M 0s\n",
            "  3800K .......... .......... .......... .......... .......... 78% 99.9M 0s\n",
            "  3850K .......... .......... .......... .......... .......... 79%  154M 0s\n",
            "  3900K .......... .......... .......... .......... .......... 80%  109M 0s\n",
            "  3950K .......... .......... .......... .......... .......... 81%  101M 0s\n",
            "  4000K .......... .......... .......... .......... .......... 82%  111M 0s\n",
            "  4050K .......... .......... .......... .......... .......... 83%  128M 0s\n",
            "  4100K .......... .......... .......... .......... .......... 84%  100M 0s\n",
            "  4150K .......... .......... .......... .......... .......... 85%  104M 0s\n",
            "  4200K .......... .......... .......... .......... .......... 86%  135M 0s\n",
            "  4250K .......... .......... .......... .......... .......... 87% 98.8M 0s\n",
            "  4300K .......... .......... .......... .......... .......... 88%  137M 0s\n",
            "  4350K .......... .......... .......... .......... .......... 89% 89.4M 0s\n",
            "  4400K .......... .......... .......... .......... .......... 90%  101M 0s\n",
            "  4450K .......... .......... .......... .......... .......... 91%  150M 0s\n",
            "  4500K .......... .......... .......... .......... .......... 92%  110M 0s\n",
            "  4550K .......... .......... .......... .......... .......... 93%  105M 0s\n",
            "  4600K .......... .......... .......... .......... .......... 94%  114M 0s\n",
            "  4650K .......... .......... .......... .......... .......... 95%  112M 0s\n",
            "  4700K .......... .......... .......... .......... .......... 96%  130M 0s\n",
            "  4750K .......... .......... .......... .......... .......... 97% 87.2M 0s\n",
            "  4800K .......... .......... .......... .......... .......... 98%  105M 0s\n",
            "  4850K .......... .......... .......... .......... .......... 99%  119M 0s\n",
            "  4900K .......... .......... ......                          100%  142M=0.2s\n",
            "\n",
            "2020-02-19 13:38:14 (23.3 MB/s) - ‘mnist_lenet1_1.pth’ saved [5045227/5045227]\n",
            "\n",
            "downloading lenet1_test_errors.txt\n",
            "--2020-02-19 13:38:14--  http://www.hephy.at/user/wwaltenberger/lenet1_test_errors.txt\n",
            "Resolving www.hephy.at (www.hephy.at)... 193.170.243.198\n",
            "Connecting to www.hephy.at (www.hephy.at)|193.170.243.198|:80... connected.\n",
            "HTTP request sent, awaiting response... 200 OK\n",
            "Length: 10561 (10K) [text/plain]\n",
            "Saving to: ‘lenet1_test_errors.txt’\n",
            "\n",
            "     0K ..........                                            100%  131M=0s\n",
            "\n",
            "2020-02-19 13:38:14 (131 MB/s) - ‘lenet1_test_errors.txt’ saved [10561/10561]\n",
            "\n"
          ],
          "name": "stdout"
        }
      ]
    },
    {
      "cell_type": "code",
      "metadata": {
        "id": "uL4Z1prJAZ3Y",
        "colab_type": "code",
        "colab": {}
      },
      "source": [
        "# Load saved models to CPU\n",
        "lenet1_models = [torch.load('mnist_lenet1_'+str(ind)+'.pth', map_location={'cuda:0': 'cpu'}) for ind in [0,1]]\n",
        "\n",
        "# Load saved test errors to plot figures.\n",
        "lenet1_test_errors = [error_array.split(',') for error_array in \n",
        "                      open(\"lenet1_test_errors.txt\",\"r\").read().split('\\n')]\n",
        "lenet1_test_errors = np.array(lenet1_test_errors,dtype='f')"
      ],
      "execution_count": 0,
      "outputs": []
    },
    {
      "cell_type": "code",
      "metadata": {
        "id": "tO-NwEkDDuT-",
        "colab_type": "code",
        "outputId": "924948c1-a9a6-49cb-cd78-460b86814a6d",
        "colab": {
          "base_uri": "https://localhost:8080/",
          "height": 458
        }
      },
      "source": [
        "labels = ['LeNet no dropout',\n",
        "          'LeNet 50% dropout']\n",
        "\n",
        "plt.figure(figsize=(8, 7))\n",
        "for i, r in enumerate(lenet1_test_errors.tolist()):\n",
        "    plt.plot(range(1, len(r)+1), r, '.-', label=labels[i], alpha=0.6);\n",
        "plt.ylim([50, 250]);\n",
        "plt.legend(loc=1);\n",
        "plt.xlabel('Epochs');\n",
        "plt.ylabel('Number of errors in test set');\n",
        "plt.title('Test Error on MNIST Dataset for All Networks')\n",
        "plt.show()"
      ],
      "execution_count": 0,
      "outputs": [
        {
          "output_type": "display_data",
          "data": {
            "image/png": "[encoded data removed]",
            "text/plain": [
              "<Figure size 576x504 with 1 Axes>"
            ]
          },
          "metadata": {
            "tags": []
          }
        }
      ]
    },
    {
      "cell_type": "markdown",
      "metadata": {
        "id": "F1S1dnRIFSO8",
        "colab_type": "text"
      },
      "source": [
        "Indeed, 50% dropout layers are a good regularization scheme!"
      ]
    },
    {
      "cell_type": "markdown",
      "metadata": {
        "id": "YcCXVXdcGAGm",
        "colab_type": "text"
      },
      "source": [
        "### **Monte Carlo Dropout as Bayesian Approximation**"
      ]
    },
    {
      "cell_type": "markdown",
      "metadata": {
        "id": "SpMWKSMkGV1x",
        "colab_type": "text"
      },
      "source": [
        "Now we rotate the digits in a circle, 12 times, so we see the changing variance of the predictions!"
      ]
    },
    {
      "cell_type": "code",
      "metadata": {
        "id": "a4CiqoUgGi0l",
        "colab_type": "code",
        "outputId": "787d850f-4f9f-438f-a31e-a44fa5c0aac1",
        "colab": {
          "base_uri": "https://localhost:8080/",
          "height": 68
        }
      },
      "source": [
        "testloader = torch.utils.data.DataLoader(testset, batch_size=len(testset), shuffle=False)\n",
        "X_test, y_test = iter(testloader).next()\n",
        "X_test = X_test.numpy()\n",
        "X1 = np.array([rotate(X_test[9978].squeeze(), i, reshape=False) for i in range(50, 130, 7)])\n",
        "X1 = X1.reshape(X1.shape[0], 1, X1.shape[1], X1.shape[2])\n",
        "\n",
        "plt.figure(figsize=(8, 1))\n",
        "\n",
        "gs = gridspec.GridSpec(1, 12)\n",
        "gs.update(wspace=0, hspace=0)\n",
        "\n",
        "for i in range(len(X1)):\n",
        "    plt.subplot(gs[i])\n",
        "    plt.imshow(X1.squeeze()[i], cmap='gray');\n",
        "    plt.axis('off');"
      ],
      "execution_count": 0,
      "outputs": [
        {
          "output_type": "display_data",
          "data": {
            "image/png": "[encoded data removed]",
            "text/plain": [
              "<Figure size 576x72 with 12 Axes>"
            ]
          },
          "metadata": {
            "tags": []
          }
        }
      ]
    },
    {
      "cell_type": "code",
      "metadata": {
        "id": "7lCbZnt3GnBy",
        "colab_type": "code",
        "colab": {}
      },
      "source": [
        "def predict_class(model, X):\n",
        "    model = model.eval()\n",
        "    outputs = model(Variable(X))\n",
        "    _, pred = torch.max(outputs.data, 1)\n",
        "    model = model.train()\n",
        "    return pred.numpy()\n",
        "\n",
        "def predict(model, X, T=1000):\n",
        "    standard_pred = predict_class(model, X)\n",
        "    y1 = []\n",
        "    y2 = []\n",
        "    for _ in range(T):\n",
        "        _y1 = model(Variable(X))\n",
        "        _y2 = F.softmax(_y1, dim=1)\n",
        "        y1.append(_y1.data.numpy())\n",
        "        y2.append(_y2.data.numpy())\n",
        "    return standard_pred, np.array(y1), np.array(y2)"
      ],
      "execution_count": 0,
      "outputs": []
    },
    {
      "cell_type": "code",
      "metadata": {
        "id": "lWxIT6tTGwJE",
        "colab_type": "code",
        "outputId": "4076a5bd-24c2-4b45-a4dd-cee2d58ba8ab",
        "colab": {
          "base_uri": "https://localhost:8080/",
          "height": 34
        }
      },
      "source": [
        "model = lenet1_models[1]\n",
        "y1_pred, y1_si, y1_so = predict(model, torch.from_numpy(X1))\n",
        "print('Predictions: {}'.format(y1_pred))"
      ],
      "execution_count": 0,
      "outputs": [
        {
          "output_type": "stream",
          "text": [
            "Predictions: [1 1 1 1 1 1 7 7 7 7 7 7]\n"
          ],
          "name": "stdout"
        }
      ]
    },
    {
      "cell_type": "code",
      "metadata": {
        "id": "moBhsdaZHoC9",
        "colab_type": "code",
        "outputId": "d143b00f-cfab-4d3e-f69a-4a3ff9ad9dd7",
        "colab": {
          "base_uri": "https://localhost:8080/",
          "height": 225
        }
      },
      "source": [
        "plt.figure(figsize=(10, 3))\n",
        "plt.subplot(1, 2, 1)\n",
        "plt.scatter(np.tile(np.arange(1, 13), y1_si.shape[0]), y1_si[:, :, 1].flatten(), \\\n",
        "            color='g', marker='_', linewidth=None, alpha=0.2, label='1');\n",
        "plt.scatter(np.tile(np.arange(1, 13), y1_si.shape[0]), y1_si[:, :, 7].flatten(), \\\n",
        "            color='r', marker='_', linewidth=None, alpha=0.2, label='7');\n",
        "plt.scatter(np.tile(np.arange(1, 13), y1_si.shape[0]), y1_si[:, :, 3].flatten(), \\\n",
        "            color='b', marker='_', linewidth=None, alpha=0.2, label='3');\n",
        "plt.title('Softmax input scatter');\n",
        "plt.legend(framealpha=0.7);\n",
        "\n",
        "plt.subplot(1, 2, 2)\n",
        "plt.scatter(np.tile(np.arange(1, 13), y1_so.shape[0]), y1_so[:, :, 1].flatten(), \\\n",
        "            color='g', marker='_', linewidth=None, alpha=0.2, label='1');\n",
        "plt.scatter(np.tile(np.arange(1, 13), y1_so.shape[0]), y1_so[:, :, 7].flatten(), \\\n",
        "            color='r', marker='_', linewidth=None, alpha=0.2, label='7');\n",
        "plt.scatter(np.tile(np.arange(1, 13), y1_so.shape[0]), y1_so[:, :, 3].flatten(), \\\n",
        "            color='b', marker='_', linewidth=None, alpha=0.2, label='3');\n",
        "plt.title('Softmax output scatter');\n",
        "plt.legend(framealpha=0.7);\n",
        "\n",
        "plt.tight_layout();\n"
      ],
      "execution_count": 0,
      "outputs": [
        {
          "output_type": "display_data",
          "data": {
            "image/png": "[encoded data removed]",
            "text/plain": [
              "<Figure size 720x216 with 2 Axes>"
            ]
          },
          "metadata": {
            "tags": []
          }
        }
      ]
    },
    {
      "cell_type": "code",
      "metadata": {
        "id": "kMMw3fa2HtVx",
        "colab_type": "code",
        "outputId": "91ce3f8b-3512-4ec8-db25-aa929a670d81",
        "colab": {
          "base_uri": "https://localhost:8080/",
          "height": 119
        }
      },
      "source": [
        "print('p(1 | vertical) = ', np.mean(y1_so[:, 0, 1]) )\n",
        "print('var(1 | vertical) = ', np.sqrt(np.var(y1_so[:, 0, 1])) )\n",
        "\n",
        "print('p(1 | diag) = ', np.mean(y1_so[:, 5, 1]) )\n",
        "print('var(1 | diag) = ', np.sqrt(np.var(y1_so[:, 5, 1])) )\n",
        "\n",
        "print('p(1 | horizontal) = ', np.mean(y1_so[:, 11, 1]) )\n",
        "print('var(1 | horizontal) = ', np.sqrt(np.var(y1_so[:, 11, 1])) )"
      ],
      "execution_count": 0,
      "outputs": [
        {
          "output_type": "stream",
          "text": [
            "p(1 | vertical) =  0.99266094\n",
            "var(1 | vertical) =  0.06765788\n",
            "p(1 | diag) =  0.18636355\n",
            "var(1 | diag) =  0.34405586\n",
            "p(1 | horizontal) =  1.0040596e-09\n",
            "var(1 | horizontal) =  2.4945335e-08\n"
          ],
          "name": "stdout"
        }
      ]
    },
    {
      "cell_type": "code",
      "metadata": {
        "id": "8CIWsh7yrYjw",
        "colab_type": "code",
        "colab": {}
      },
      "source": [
        ""
      ],
      "execution_count": 0,
      "outputs": []
    }
  ]
}